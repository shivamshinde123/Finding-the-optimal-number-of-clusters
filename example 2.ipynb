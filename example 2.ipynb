{
 "cells": [
  {
   "cell_type": "code",
   "execution_count": 1,
   "id": "8c854090",
   "metadata": {},
   "outputs": [],
   "source": [
    "import numpy as np\n",
    "import pandas as pd\n",
    "import matplotlib.pyplot as plt\n",
    "import seaborn as sns\n",
    "%matplotlib inline"
   ]
  },
  {
   "cell_type": "code",
   "execution_count": 2,
   "id": "51624fa8",
   "metadata": {},
   "outputs": [],
   "source": [
    "# importing the dataset\n",
    "df = pd.read_csv('IRIS.csv')"
   ]
  },
  {
   "cell_type": "code",
   "execution_count": 3,
   "id": "af4a2e52",
   "metadata": {},
   "outputs": [
    {
     "data": {
      "text/html": [
       "<div>\n",
       "<style scoped>\n",
       "    .dataframe tbody tr th:only-of-type {\n",
       "        vertical-align: middle;\n",
       "    }\n",
       "\n",
       "    .dataframe tbody tr th {\n",
       "        vertical-align: top;\n",
       "    }\n",
       "\n",
       "    .dataframe thead th {\n",
       "        text-align: right;\n",
       "    }\n",
       "</style>\n",
       "<table border=\"1\" class=\"dataframe\">\n",
       "  <thead>\n",
       "    <tr style=\"text-align: right;\">\n",
       "      <th></th>\n",
       "      <th>sepal_length</th>\n",
       "      <th>sepal_width</th>\n",
       "      <th>petal_length</th>\n",
       "      <th>petal_width</th>\n",
       "      <th>species</th>\n",
       "    </tr>\n",
       "  </thead>\n",
       "  <tbody>\n",
       "    <tr>\n",
       "      <th>0</th>\n",
       "      <td>5.1</td>\n",
       "      <td>3.5</td>\n",
       "      <td>1.4</td>\n",
       "      <td>0.2</td>\n",
       "      <td>Iris-setosa</td>\n",
       "    </tr>\n",
       "    <tr>\n",
       "      <th>1</th>\n",
       "      <td>4.9</td>\n",
       "      <td>3.0</td>\n",
       "      <td>1.4</td>\n",
       "      <td>0.2</td>\n",
       "      <td>Iris-setosa</td>\n",
       "    </tr>\n",
       "    <tr>\n",
       "      <th>2</th>\n",
       "      <td>4.7</td>\n",
       "      <td>3.2</td>\n",
       "      <td>1.3</td>\n",
       "      <td>0.2</td>\n",
       "      <td>Iris-setosa</td>\n",
       "    </tr>\n",
       "    <tr>\n",
       "      <th>3</th>\n",
       "      <td>4.6</td>\n",
       "      <td>3.1</td>\n",
       "      <td>1.5</td>\n",
       "      <td>0.2</td>\n",
       "      <td>Iris-setosa</td>\n",
       "    </tr>\n",
       "    <tr>\n",
       "      <th>4</th>\n",
       "      <td>5.0</td>\n",
       "      <td>3.6</td>\n",
       "      <td>1.4</td>\n",
       "      <td>0.2</td>\n",
       "      <td>Iris-setosa</td>\n",
       "    </tr>\n",
       "  </tbody>\n",
       "</table>\n",
       "</div>"
      ],
      "text/plain": [
       "   sepal_length  sepal_width  petal_length  petal_width      species\n",
       "0           5.1          3.5           1.4          0.2  Iris-setosa\n",
       "1           4.9          3.0           1.4          0.2  Iris-setosa\n",
       "2           4.7          3.2           1.3          0.2  Iris-setosa\n",
       "3           4.6          3.1           1.5          0.2  Iris-setosa\n",
       "4           5.0          3.6           1.4          0.2  Iris-setosa"
      ]
     },
     "execution_count": 3,
     "metadata": {},
     "output_type": "execute_result"
    }
   ],
   "source": [
    "df.head()"
   ]
  },
  {
   "cell_type": "code",
   "execution_count": 4,
   "id": "51b4f95a",
   "metadata": {},
   "outputs": [],
   "source": [
    "X = df.drop('species',axis=1)\n",
    "y = df['species']"
   ]
  },
  {
   "cell_type": "code",
   "execution_count": 5,
   "id": "50bf20d9",
   "metadata": {},
   "outputs": [],
   "source": [
    "from sklearn.cluster import KMeans"
   ]
  },
  {
   "cell_type": "markdown",
   "id": "cc147419",
   "metadata": {},
   "source": [
    "### Finding the optimal number of clusters using the inertia of the models"
   ]
  },
  {
   "cell_type": "code",
   "execution_count": 6,
   "id": "8f8c0147",
   "metadata": {},
   "outputs": [
    {
     "data": {
      "image/png": "[encoded data removed]",
      "text/plain": [
       "<Figure size 864x576 with 1 Axes>"
      ]
     },
     "metadata": {
      "needs_background": "light"
     },
     "output_type": "display_data"
    }
   ],
   "source": [
    "inertia_list = []\n",
    "\n",
    "for i in range(2,10):\n",
    "    kmeans = KMeans(n_clusters=i)\n",
    "    kmeans.fit(X)\n",
    "    inertia_list.append(kmeans.inertia_)\n",
    "\n",
    "plt.figure(figsize=(12,8))\n",
    "sns.set_style('darkgrid')\n",
    "plt.plot(list(range(2,10)), inertia_list, 'mx',ls='solid')\n",
    "plt.xlabel('Number of clusters')\n",
    "plt.ylabel('Inertia')\n",
    "plt.title('Finding the optimal number of cluster using the inertia of the model');"
   ]
  },
  {
   "cell_type": "markdown",
   "id": "b2c3d3a7",
   "metadata": {},
   "source": [
    "**By the looks of it we can conclude that the n_cluster=5 will give us the satisfactory results**"
   ]
  },
  {
   "cell_type": "markdown",
   "id": "c7ca32e0",
   "metadata": {},
   "source": [
    "### Finding the optimal number of solutions using the silhouette score of the model"
   ]
  },
  {
   "cell_type": "code",
   "execution_count": 7,
   "id": "5d419d1b",
   "metadata": {},
   "outputs": [
    {
     "data": {
      "image/png": "[encoded data removed]",
      "text/plain": [
       "<Figure size 864x576 with 1 Axes>"
      ]
     },
     "metadata": {},
     "output_type": "display_data"
    }
   ],
   "source": [
    "from sklearn.metrics import silhouette_score\n",
    "sil_score_list = []\n",
    "\n",
    "for i in range(2,10):\n",
    "    kmeans = KMeans(n_clusters=i)\n",
    "    kmeans.fit(X)\n",
    "    sil_score_list.append(silhouette_score(X, kmeans.labels_))\n",
    "    \n",
    "plt.figure(figsize=(12,8))\n",
    "sns.set_style('darkgrid')\n",
    "plt.plot(list(range(2,10)), sil_score_list, 'gx',ls='solid')\n",
    "plt.xlabel('Number of clusters')\n",
    "plt.ylabel('Silhouette Score')\n",
    "plt.title('Finding the optimal number of cluster using the silhouette score of the model');"
   ]
  },
  {
   "cell_type": "markdown",
   "id": "1103113d",
   "metadata": {},
   "source": [
    "**By looking at the graph it feels like as the optimal number of clusters for the model should be 4 or 5, since for that values inertia won't be too high as well as we will have good silhouette score**"
   ]
  },
  {
   "cell_type": "code",
   "execution_count": 8,
   "id": "357de6ad",
   "metadata": {},
   "outputs": [
    {
     "name": "stdout",
     "output_type": "stream",
     "text": [
      "The optimal number of clusters for the kmeans model: 4\n"
     ]
    }
   ],
   "source": [
    "## finding the optimal number of clusers using the kneed library\n",
    "from kneed import KneeLocator\n",
    "\n",
    "kn = KneeLocator(range(2,10),inertia_list,curve='convex',direction='decreasing')\n",
    "print(f\"The optimal number of clusters for the kmeans model: {kn.knee}\")"
   ]
  },
  {
   "cell_type": "code",
   "execution_count": 9,
   "id": "86ce24a6",
   "metadata": {},
   "outputs": [],
   "source": [
    "## let's cluster the data into 4 clusters\n",
    "kmeans_final = KMeans(n_clusters=4)\n",
    "kmeans_final.fit(X)\n",
    "cluster_assigned = kmeans_final.predict(X)"
   ]
  },
  {
   "cell_type": "code",
   "execution_count": 10,
   "id": "b72303d0",
   "metadata": {},
   "outputs": [
    {
     "data": {
      "text/plain": [
       "array([2, 2, 2, 2, 2, 2, 2, 2, 2, 2, 2, 2, 2, 2, 2, 2, 2, 2, 2, 2, 2, 2,\n",
       "       2, 2, 2, 2, 2, 2, 2, 2, 2, 2, 2, 2, 2, 2, 2, 2, 2, 2, 2, 2, 2, 2,\n",
       "       2, 2, 2, 2, 2, 2, 3, 3, 3, 0, 3, 0, 3, 0, 3, 0, 0, 0, 0, 3, 0, 3,\n",
       "       0, 0, 3, 0, 3, 0, 3, 3, 3, 3, 3, 3, 3, 0, 0, 0, 0, 3, 0, 3, 3, 3,\n",
       "       0, 0, 0, 3, 0, 0, 0, 0, 0, 3, 0, 0, 1, 3, 1, 1, 1, 1, 0, 1, 1, 1,\n",
       "       3, 3, 1, 3, 3, 1, 1, 1, 1, 3, 1, 3, 1, 3, 1, 1, 3, 3, 1, 1, 1, 1,\n",
       "       1, 3, 3, 1, 1, 1, 3, 1, 1, 1, 3, 1, 1, 1, 3, 3, 1, 3])"
      ]
     },
     "execution_count": 10,
     "metadata": {},
     "output_type": "execute_result"
    }
   ],
   "source": [
    "cluster_assigned"
   ]
  },
  {
   "cell_type": "code",
   "execution_count": 11,
   "id": "6b310da1",
   "metadata": {},
   "outputs": [],
   "source": [
    "## finding the array containing the distance of the instances from each of the cluster\n",
    "dist = kmeans_final.transform(X)"
   ]
  },
  {
   "cell_type": "code",
   "execution_count": 12,
   "id": "6c54c4e9",
   "metadata": {
    "scrolled": true
   },
   "outputs": [
    {
     "data": {
      "text/plain": [
       "array([[2.92385945, 5.1912985 , 0.14694217, 3.92901149],\n",
       "       [2.85438706, 5.2501981 , 0.43816892, 3.94247781],\n",
       "       [3.02460573, 5.41377457, 0.41230086, 4.1128009 ],\n",
       "       [2.86313212, 5.28892287, 0.51883716, 3.97625845],\n",
       "       [2.9712354 , 5.23565469, 0.19796969, 3.97701286],\n",
       "       [2.72272654, 4.80847742, 0.68380699, 3.6086883 ],\n",
       "       [2.97867848, 5.34470112, 0.41520116, 4.05532135],\n",
       "       [2.82495711, 5.13543621, 0.0599333 , 3.85819015],\n",
       "       [2.99446343, 5.46416326, 0.80099438, 4.13843343],\n",
       "       [2.8185021 , 5.20302365, 0.36659514, 3.89924752],\n",
       "       [2.87458515, 5.02719654, 0.48784424, 3.80271367],\n",
       "       [2.78407919, 5.13013938, 0.25138019, 3.84364817],\n",
       "       [2.91541907, 5.32666219, 0.49192682, 4.01480152],\n",
       "       [3.33290261, 5.78739623, 0.90906105, 4.46767627],\n",
       "       [3.25768714, 5.23171388, 1.02019214, 4.07610491],\n",
       "       [3.14364844, 5.00526773, 1.21309192, 3.89642545],\n",
       "       [3.06297424, 5.15741748, 0.66241377, 3.95912001],\n",
       "       [2.89019719, 5.1549326 , 0.1509702 , 3.89385814],\n",
       "       [2.71234423, 4.74449208, 0.82848778, 3.55768622],\n",
       "       [2.90855091, 5.10136796, 0.39898872, 3.86860844],\n",
       "       [2.6019959 , 4.82741702, 0.46172719, 3.57178264],\n",
       "       [2.8392071 , 5.05348445, 0.33762701, 3.81210326],\n",
       "       [3.40918253, 5.72883759, 0.64435394, 4.45764862],\n",
       "       [2.50393058, 4.81484217, 0.37946278, 3.53484529],\n",
       "       [2.53469295, 4.88469089, 0.4845534 , 3.59647484],\n",
       "       [2.65458306, 5.04314684, 0.44180539, 3.7358575 ],\n",
       "       [2.66960881, 4.97803476, 0.20782685, 3.70170653],\n",
       "       [2.82318661, 5.07126267, 0.21815591, 3.81361131],\n",
       "       [2.88264954, 5.15044465, 0.2097427 , 3.88556704],\n",
       "       [2.76438261, 5.1643809 , 0.40198507, 3.85955065],\n",
       "       [2.71708033, 5.12136018, 0.40495926, 3.81269344],\n",
       "       [2.70984129, 4.92647999, 0.42566654, 3.67608912],\n",
       "       [3.09568083, 5.19171986, 0.72442529, 3.99657744],\n",
       "       [3.17226099, 5.1681312 , 0.9282198 , 4.00850736],\n",
       "       [2.8185021 , 5.20302365, 0.36659514, 3.89924752],\n",
       "       [3.04648928, 5.38431333, 0.34524194, 4.09714916],\n",
       "       [2.9808359 , 5.15353811, 0.5287646 , 3.92022082],\n",
       "       [2.8185021 , 5.20302365, 0.36659514, 3.89924752],\n",
       "       [3.09060046, 5.54314487, 0.75550778, 4.22358038],\n",
       "       [2.80783797, 5.09903962, 0.11131936, 3.82689577],\n",
       "       [2.99529819, 5.27685561, 0.19181241, 4.0119361 ],\n",
       "       [3.01987887, 5.52156727, 1.23935144, 4.18212043],\n",
       "       [3.12050084, 5.54314487, 0.66602703, 4.23516602],\n",
       "       [2.64541864, 4.91917982, 0.38986151, 3.65672411],\n",
       "       [2.54467732, 4.72760035, 0.60761172, 3.4955874 ],\n",
       "       [2.84398309, 5.25364922, 0.47370033, 3.94317528],\n",
       "       [2.85888786, 5.05379363, 0.41855943, 3.81944122],\n",
       "       [2.96690504, 5.372344  , 0.4673243 , 4.06726336],\n",
       "       [2.8809145 , 5.05818199, 0.41132955, 3.82637312],\n",
       "       [2.8878484 , 5.21556134, 0.14139307, 3.93187376],\n",
       "       [1.74612545, 1.36664007, 3.97889331, 0.86118015],\n",
       "       [1.19837262, 1.57645332, 3.57569462, 0.50559989],\n",
       "       [1.74428367, 1.13807077, 4.13182671, 0.7086122 ],\n",
       "       [0.34696203, 2.59558858, 3.00672446, 1.28223682],\n",
       "       [1.20253771, 1.48772648, 3.7451291 , 0.35514962],\n",
       "       [0.59253434, 2.01623537, 3.34604124, 0.7163318 ],\n",
       "       [1.30972617, 1.41869837, 3.74149596, 0.46274318],\n",
       "       [0.97157299, 3.50805574, 2.233829  , 2.17304654],\n",
       "       [1.27434457, 1.54380377, 3.70928457, 0.52405272],\n",
       "       [0.3840905 , 2.72354642, 2.79706847, 1.42113731],\n",
       "       [0.97560813, 3.41397204, 2.5937602 , 2.1022919 ],\n",
       "       [0.63162812, 2.03613115, 3.16815277, 0.73425558],\n",
       "       [0.68009228, 2.51661083, 3.07805003, 1.24403828],\n",
       "       [0.98399177, 1.59693615, 3.64323922, 0.29854857],\n",
       "       [0.45789559, 2.73899253, 2.50973943, 1.41761463],\n",
       "       [1.34231562, 1.63503213, 3.59544045, 0.69507643],\n",
       "       [0.70838635, 1.98625403, 3.36487622, 0.74942061],\n",
       "       [0.3840905 , 2.39352357, 2.9438057 , 1.06331145],\n",
       "       [1.00019131, 1.878884  , 3.70189033, 0.73934515],\n",
       "       [0.20794181, 2.63371507, 2.80399572, 1.29020589],\n",
       "       [1.21846968, 1.49694024, 3.79431048, 0.52357545],\n",
       "       [0.59673858, 2.20274376, 3.02079327, 0.89226187],\n",
       "       [1.2505815 , 1.42485265, 3.98757972, 0.38875603],\n",
       "       [0.94700117, 1.71251426, 3.60060995, 0.46918147],\n",
       "       [0.97120533, 1.84023234, 3.37188256, 0.62819682],\n",
       "       [1.22285839, 1.65403449, 3.55977415, 0.60384704],\n",
       "       [1.53890864, 1.31655994, 4.00819061, 0.59466903],\n",
       "       [1.6730075 , 0.97894335, 4.20328348, 0.51101003],\n",
       "       [0.80823251, 1.75647519, 3.47148268, 0.42500735],\n",
       "       [0.54217532, 2.91679706, 2.42231129, 1.57801497],\n",
       "       [0.31456968, 2.78178541, 2.73312861, 1.44191929],\n",
       "       [0.42048927, 2.89377869, 2.61755458, 1.55149323],\n",
       "       [0.28351835, 2.46073263, 2.82736485, 1.11652642],\n",
       "       [1.28800391, 1.35377438, 4.06974102, 0.41186314],\n",
       "       [0.71740391, 2.12372434, 3.33538484, 0.92877944],\n",
       "       [1.10986991, 1.73751405, 3.47050313, 0.6786982 ],\n",
       "       [1.4831279 , 1.32625604, 3.87556344, 0.53770926],\n",
       "       [0.94888495, 1.94925116, 3.55803204, 0.76689716],\n",
       "       [0.40225766, 2.33991561, 2.93107352, 1.031325  ],\n",
       "       [0.16154547, 2.54107853, 2.9382294 , 1.20918619],\n",
       "       [0.44282834, 2.28162882, 3.23221163, 0.9920339 ],\n",
       "       [0.94511364, 1.66119839, 3.54152397, 0.37567439],\n",
       "       [0.27455902, 2.40121429, 2.94020271, 1.05576098],\n",
       "       [0.94056811, 3.47332047, 2.27868208, 2.13603166],\n",
       "       [0.26664009, 2.29909332, 3.07720523, 0.96624596],\n",
       "       [0.46792529, 2.24935103, 3.00931753, 0.94081414],\n",
       "       [0.40047803, 2.21660327, 3.05790647, 0.88945559],\n",
       "       [0.79755686, 1.90563771, 3.29423618, 0.61288763],\n",
       "       [1.06989175, 3.57957121, 1.98584793, 2.24145739],\n",
       "       [0.28225585, 2.30276032, 2.98784069, 0.96183743],\n",
       "       [2.60884973, 0.75801061, 5.23002792, 1.53952306],\n",
       "       [1.35080286, 1.41737612, 4.13627755, 0.62099215],\n",
       "       [2.66666401, 0.22125794, 5.2614059 , 1.46360215],\n",
       "       [1.9165698 , 0.76539537, 4.63361544, 0.80692704],\n",
       "       [2.32295005, 0.43252755, 5.00335807, 1.17606601],\n",
       "       [3.48338256, 1.02510003, 6.06026336, 2.29098914],\n",
       "       [0.96493364, 2.53183828, 3.49158875, 1.43531573],\n",
       "       [2.99899218, 0.7107778 , 5.59810611, 1.82623417],\n",
       "       [2.2565042 , 0.7190828 , 4.99343489, 1.15201183],\n",
       "       [3.14716831, 0.72986648, 5.60613878, 1.96713783],\n",
       "       [1.77432798, 0.86902536, 4.31086905, 0.63413819],\n",
       "       [1.73257358, 0.88045731, 4.46273369, 0.59718611],\n",
       "       [2.20657066, 0.37941412, 4.80907392, 1.00778532],\n",
       "       [1.31217805, 1.60143063, 4.11232197, 0.77854431],\n",
       "       [1.66401745, 1.39918014, 4.34524936, 0.94320266],\n",
       "       [2.00330721, 0.77472904, 4.57523682, 0.91193818],\n",
       "       [1.94045939, 0.64047254, 4.5953446 , 0.76297526],\n",
       "       [3.80821815, 1.35746274, 6.21652572, 2.62147501],\n",
       "       [3.80634205, 1.4169351 , 6.4578628 , 2.63877457],\n",
       "       [1.2500102 , 1.66082211, 4.0684631 , 0.73663509],\n",
       "       [2.52240471, 0.24536723, 5.07992047, 1.33309086],\n",
       "       [1.22839492, 1.65119807, 3.95277017, 0.7593624 ],\n",
       "       [3.58125434, 1.20631881, 6.17566126, 2.4066847 ],\n",
       "       [1.34258166, 1.24155349, 4.05181342, 0.25324149],\n",
       "       [2.36424795, 0.32818452, 4.92666134, 1.18622563],\n",
       "       [2.75415734, 0.47521582, 5.27802918, 1.56576858],\n",
       "       [1.22635806, 1.34288126, 3.91887637, 0.19139292],\n",
       "       [1.28994344, 1.29477993, 3.94953061, 0.2865855 ],\n",
       "       [2.05592102, 0.64387893, 4.78292714, 0.93093031],\n",
       "       [2.5368056 , 0.61406846, 5.0624097 , 1.37463859],\n",
       "       [2.9228821 , 0.6672369 , 5.50890116, 1.74546018],\n",
       "       [3.67525856, 1.33728459, 5.99739877, 2.50202543],\n",
       "       [2.10026116, 0.64678441, 4.82261257, 0.98571357],\n",
       "       [1.41004957, 1.19224791, 4.10541009, 0.3195798 ],\n",
       "       [1.74366931, 1.22712268, 4.50652771, 0.86898288],\n",
       "       [3.24912469, 0.85012063, 5.75777665, 2.05502585],\n",
       "       [2.28762755, 0.77351799, 4.84041238, 1.23131282],\n",
       "       [1.91433236, 0.70192954, 4.55574275, 0.76264753],\n",
       "       [1.17580845, 1.43119883, 3.83572575, 0.34004595],\n",
       "       [2.21754944, 0.44814069, 4.75659458, 1.02329431],\n",
       "       [2.3746482 , 0.42229146, 4.97248348, 1.21537289],\n",
       "       [2.12897288, 0.76580355, 4.59738969, 1.00803336],\n",
       "       [1.35080286, 1.41737612, 4.13627755, 0.62099215],\n",
       "       [2.61431987, 0.23228232, 5.21259935, 1.43235165],\n",
       "       [2.53905715, 0.49265107, 5.09085376, 1.39539645],\n",
       "       [2.04459841, 0.70857609, 4.60751473, 0.90836735],\n",
       "       [1.46251635, 1.22712268, 4.21459274, 0.48798694],\n",
       "       [1.78896133, 0.78474842, 4.40998776, 0.60920543],\n",
       "       [2.06147238, 0.90875193, 4.59839015, 1.04767898],\n",
       "       [1.37569092, 1.30487742, 4.07622276, 0.50708111]])"
      ]
     },
     "execution_count": 12,
     "metadata": {},
     "output_type": "execute_result"
    }
   ],
   "source": [
    "dist"
   ]
  },
  {
   "cell_type": "code",
   "execution_count": null,
   "id": "5c38ddc6",
   "metadata": {},
   "outputs": [],
   "source": []
  }
 ],
 "metadata": {
  "kernelspec": {
   "display_name": "Python 3 (ipykernel)",
   "language": "python",
   "name": "python3"
  },
  "language_info": {
   "codemirror_mode": {
    "name": "ipython",
    "version": 3
   },
   "file_extension": ".py",
   "mimetype": "text/x-python",
   "name": "python",
   "nbconvert_exporter": "python",
   "pygments_lexer": "ipython3",
   "version": "3.9.7"
  }
 },
 "nbformat": 4,
 "nbformat_minor": 5
}
